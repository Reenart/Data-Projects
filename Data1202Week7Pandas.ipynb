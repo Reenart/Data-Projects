{
 "cells": [
  {
   "cell_type": "code",
   "execution_count": 3,
   "id": "6f70d4ac-7468-4229-b39a-3ca316f0ecc4",
   "metadata": {},
   "outputs": [],
   "source": [
    "import pandas as pd"
   ]
  },
  {
   "cell_type": "code",
   "execution_count": 4,
   "id": "b84a2af5-68eb-4cef-8f00-cc52072b1791",
   "metadata": {},
   "outputs": [
    {
     "name": "stdout",
     "output_type": "stream",
     "text": [
      "0       10\n",
      "1       20\n",
      "2       30\n",
      "3       40\n",
      "4       50\n",
      "5    house\n",
      "dtype: object\n"
     ]
    }
   ],
   "source": [
    "x = pd.Series([10, 20, 30, 40, 50, 'house'])\n",
    "print(x)"
   ]
  },
  {
   "cell_type": "code",
   "execution_count": 7,
   "id": "a6d255d6-ae95-43aa-96fc-f1a4ae3ec421",
   "metadata": {},
   "outputs": [
    {
     "name": "stdout",
     "output_type": "stream",
     "text": [
      "0    10.9\n",
      "1    20.7\n",
      "2    30.9\n",
      "3    40.9\n",
      "4     4.9\n",
      "5      50\n",
      "6     dog\n",
      "dtype: object\n"
     ]
    }
   ],
   "source": [
    "x = pd.Series([10.9, 20.7, 30.9, 40.9, 4.9, 50, 'dog'])\n",
    "print(x)"
   ]
  },
  {
   "cell_type": "code",
   "execution_count": 8,
   "id": "b113822a-74ea-4bda-9be1-fd80005af8ab",
   "metadata": {},
   "outputs": [
    {
     "name": "stdout",
     "output_type": "stream",
     "text": [
      "values of X:\n",
      " 0    50\n",
      "1    90\n",
      "2    89\n",
      "3    45\n",
      "dtype: int64\n"
     ]
    }
   ],
   "source": [
    "x = pd.Series([50,90,89,45])\n",
    "print(\"values of X:\\n\" , x)"
   ]
  },
  {
   "cell_type": "code",
   "execution_count": 9,
   "id": "0c2c1cf1-6b82-41ab-8942-715bb85bd051",
   "metadata": {},
   "outputs": [
    {
     "data": {
      "text/plain": [
       "90"
      ]
     },
     "execution_count": 9,
     "metadata": {},
     "output_type": "execute_result"
    }
   ],
   "source": [
    "#accessing data\n",
    "x[1]"
   ]
  },
  {
   "cell_type": "code",
   "execution_count": 12,
   "id": "42048f6f-2a68-432f-91fc-227861008239",
   "metadata": {},
   "outputs": [
    {
     "name": "stdout",
     "output_type": "stream",
     "text": [
      "adding 5 to a Series:\n",
      " 0    55\n",
      "1    95\n",
      "2    94\n",
      "3    50\n",
      "dtype: int64\n",
      "filtering series with greater than 30:\n",
      "\n"
     ]
    }
   ],
   "source": [
    "#data manipulation \n",
    "print(\"adding 5 to a Series:\\n\", x +5 )\n",
    "print(\"filtering series with greater than 30:\\n\")"
   ]
  },
  {
   "cell_type": "code",
   "execution_count": 21,
   "id": "7644e284-1787-4226-8dab-193f0238fef8",
   "metadata": {},
   "outputs": [
    {
     "data": {
      "text/html": [
       "<div>\n",
       "<style scoped>\n",
       "    .dataframe tbody tr th:only-of-type {\n",
       "        vertical-align: middle;\n",
       "    }\n",
       "\n",
       "    .dataframe tbody tr th {\n",
       "        vertical-align: top;\n",
       "    }\n",
       "\n",
       "    .dataframe thead th {\n",
       "        text-align: right;\n",
       "    }\n",
       "</style>\n",
       "<table border=\"1\" class=\"dataframe\">\n",
       "  <thead>\n",
       "    <tr style=\"text-align: right;\">\n",
       "      <th></th>\n",
       "      <th>Name</th>\n",
       "      <th>Age</th>\n",
       "    </tr>\n",
       "  </thead>\n",
       "  <tbody>\n",
       "    <tr>\n",
       "      <th>0</th>\n",
       "      <td>Tom</td>\n",
       "      <td>12</td>\n",
       "    </tr>\n",
       "    <tr>\n",
       "      <th>1</th>\n",
       "      <td>Harry</td>\n",
       "      <td>30</td>\n",
       "    </tr>\n",
       "    <tr>\n",
       "      <th>2</th>\n",
       "      <td>Jim</td>\n",
       "      <td>20</td>\n",
       "    </tr>\n",
       "  </tbody>\n",
       "</table>\n",
       "</div>"
      ],
      "text/plain": [
       "    Name  Age\n",
       "0    Tom   12\n",
       "1  Harry   30\n",
       "2    Jim   20"
      ]
     },
     "execution_count": 21,
     "metadata": {},
     "output_type": "execute_result"
    }
   ],
   "source": [
    "# a sample list containing name and age\n",
    "data = [['Tom', 12], ['Harry', 30], ['Jim', 20]]\n",
    "#creating  dataframe from given list with column names\n",
    "df = pd.DataFrame(data, columns = ['Name', 'Age'])\n",
    "df"
   ]
  },
  {
   "cell_type": "code",
   "execution_count": 23,
   "id": "d77f8e5c-3865-4189-b7c5-ab1a2d7e1cbd",
   "metadata": {},
   "outputs": [
    {
     "data": {
      "text/plain": [
       "0      Tom\n",
       "1    Harry\n",
       "2      Jim\n",
       "Name: Name, dtype: object"
      ]
     },
     "execution_count": 23,
     "metadata": {},
     "output_type": "execute_result"
    }
   ],
   "source": [
    "df.Name"
   ]
  },
  {
   "cell_type": "code",
   "execution_count": 25,
   "id": "e15e5d34-d9e6-4201-990a-0ec3d8c51730",
   "metadata": {},
   "outputs": [
    {
     "data": {
      "text/html": [
       "<div>\n",
       "<style scoped>\n",
       "    .dataframe tbody tr th:only-of-type {\n",
       "        vertical-align: middle;\n",
       "    }\n",
       "\n",
       "    .dataframe tbody tr th {\n",
       "        vertical-align: top;\n",
       "    }\n",
       "\n",
       "    .dataframe thead th {\n",
       "        text-align: right;\n",
       "    }\n",
       "</style>\n",
       "<table border=\"1\" class=\"dataframe\">\n",
       "  <thead>\n",
       "    <tr style=\"text-align: right;\">\n",
       "      <th></th>\n",
       "      <th>Name</th>\n",
       "      <th>Age</th>\n",
       "      <th>Year</th>\n",
       "    </tr>\n",
       "  </thead>\n",
       "  <tbody>\n",
       "    <tr>\n",
       "      <th>0</th>\n",
       "      <td>Tom</td>\n",
       "      <td>12</td>\n",
       "      <td>2004</td>\n",
       "    </tr>\n",
       "    <tr>\n",
       "      <th>1</th>\n",
       "      <td>Harry</td>\n",
       "      <td>30</td>\n",
       "      <td>2005</td>\n",
       "    </tr>\n",
       "    <tr>\n",
       "      <th>2</th>\n",
       "      <td>Jim</td>\n",
       "      <td>20</td>\n",
       "      <td>2010</td>\n",
       "    </tr>\n",
       "  </tbody>\n",
       "</table>\n",
       "</div>"
      ],
      "text/plain": [
       "    Name  Age  Year\n",
       "0    Tom   12  2004\n",
       "1  Harry   30  2005\n",
       "2    Jim   20  2010"
      ]
     },
     "execution_count": 25,
     "metadata": {},
     "output_type": "execute_result"
    }
   ],
   "source": [
    "df['Year'] = 2004, 2005, 2010\n",
    "df"
   ]
  },
  {
   "cell_type": "code",
   "execution_count": 27,
   "id": "7ac2a4f0-7941-4649-b01c-af2cef307d51",
   "metadata": {},
   "outputs": [
    {
     "data": {
      "text/html": [
       "<div>\n",
       "<style scoped>\n",
       "    .dataframe tbody tr th:only-of-type {\n",
       "        vertical-align: middle;\n",
       "    }\n",
       "\n",
       "    .dataframe tbody tr th {\n",
       "        vertical-align: top;\n",
       "    }\n",
       "\n",
       "    .dataframe thead th {\n",
       "        text-align: right;\n",
       "    }\n",
       "</style>\n",
       "<table border=\"1\" class=\"dataframe\">\n",
       "  <thead>\n",
       "    <tr style=\"text-align: right;\">\n",
       "      <th></th>\n",
       "      <th>price</th>\n",
       "      <th>ticker</th>\n",
       "      <th>company</th>\n",
       "    </tr>\n",
       "  </thead>\n",
       "  <tbody>\n",
       "    <tr>\n",
       "      <th>0</th>\n",
       "      <td>98</td>\n",
       "      <td>AXP</td>\n",
       "      <td>American Express</td>\n",
       "    </tr>\n",
       "    <tr>\n",
       "      <th>1</th>\n",
       "      <td>76</td>\n",
       "      <td>CSCO</td>\n",
       "      <td>Cisco</td>\n",
       "    </tr>\n",
       "    <tr>\n",
       "      <th>2</th>\n",
       "      <td>73</td>\n",
       "      <td>DIS</td>\n",
       "      <td>Walt Disney</td>\n",
       "    </tr>\n",
       "    <tr>\n",
       "      <th>3</th>\n",
       "      <td>90</td>\n",
       "      <td>MSFT</td>\n",
       "      <td>Microsoft</td>\n",
       "    </tr>\n",
       "  </tbody>\n",
       "</table>\n",
       "</div>"
      ],
      "text/plain": [
       "   price ticker           company\n",
       "0     98    AXP  American Express\n",
       "1     76   CSCO             Cisco\n",
       "2     73    DIS       Walt Disney\n",
       "3     90   MSFT         Microsoft"
      ]
     },
     "execution_count": 27,
     "metadata": {},
     "output_type": "execute_result"
    }
   ],
   "source": [
    "# a sample of data containing company stock data\n",
    "data = pd.DataFrame({'price':[98, 76, 73, 90],\n",
    "                     'ticker':['AXP','CSCO','DIS','MSFT' ],\n",
    "                     'company':['American Express', 'Cisco', 'Walt Disney', 'Microsoft']})\n",
    "data"
   ]
  },
  {
   "cell_type": "code",
   "execution_count": 29,
   "id": "4c3ae327-5e83-486d-88b0-7338c6104c56",
   "metadata": {},
   "outputs": [
    {
     "name": "stdout",
     "output_type": "stream",
     "text": [
      "top five data:\n",
      "    price ticker           company\n",
      "0     98    AXP  American Express\n",
      "1     76   CSCO             Cisco\n",
      "2     73    DIS       Walt Disney\n",
      "3     90   MSFT         Microsoft\n"
     ]
    }
   ],
   "source": [
    "#inspecting top 5 rows of a dataframe\n",
    "print(\"top five data:\\n\", data.head())"
   ]
  },
  {
   "cell_type": "code",
   "execution_count": 31,
   "id": "6c74010d-bf1c-4d1f-8a50-70323dc6bbd6",
   "metadata": {},
   "outputs": [
    {
     "name": "stdout",
     "output_type": "stream",
     "text": [
      "below 5 data:\n",
      "    price ticker           company\n",
      "0     98    AXP  American Express\n",
      "1     76   CSCO             Cisco\n",
      "2     73    DIS       Walt Disney\n",
      "3     90   MSFT         Microsoft\n"
     ]
    }
   ],
   "source": [
    "#inspecting below 5 rows of a dataframe\n",
    "print('below 5 data:\\n', data.tail())"
   ]
  },
  {
   "cell_type": "code",
   "execution_count": 33,
   "id": "a02fd8d3-6779-4d4f-8cd1-094c8b03de6e",
   "metadata": {},
   "outputs": [
    {
     "data": {
      "text/html": [
       "<div>\n",
       "<style scoped>\n",
       "    .dataframe tbody tr th:only-of-type {\n",
       "        vertical-align: middle;\n",
       "    }\n",
       "\n",
       "    .dataframe tbody tr th {\n",
       "        vertical-align: top;\n",
       "    }\n",
       "\n",
       "    .dataframe thead th {\n",
       "        text-align: right;\n",
       "    }\n",
       "</style>\n",
       "<table border=\"1\" class=\"dataframe\">\n",
       "  <thead>\n",
       "    <tr style=\"text-align: right;\">\n",
       "      <th></th>\n",
       "      <th>price</th>\n",
       "    </tr>\n",
       "  </thead>\n",
       "  <tbody>\n",
       "    <tr>\n",
       "      <th>count</th>\n",
       "      <td>4.000000</td>\n",
       "    </tr>\n",
       "    <tr>\n",
       "      <th>mean</th>\n",
       "      <td>84.250000</td>\n",
       "    </tr>\n",
       "    <tr>\n",
       "      <th>std</th>\n",
       "      <td>11.786291</td>\n",
       "    </tr>\n",
       "    <tr>\n",
       "      <th>min</th>\n",
       "      <td>73.000000</td>\n",
       "    </tr>\n",
       "    <tr>\n",
       "      <th>25%</th>\n",
       "      <td>75.250000</td>\n",
       "    </tr>\n",
       "    <tr>\n",
       "      <th>50%</th>\n",
       "      <td>83.000000</td>\n",
       "    </tr>\n",
       "    <tr>\n",
       "      <th>75%</th>\n",
       "      <td>92.000000</td>\n",
       "    </tr>\n",
       "    <tr>\n",
       "      <th>max</th>\n",
       "      <td>98.000000</td>\n",
       "    </tr>\n",
       "  </tbody>\n",
       "</table>\n",
       "</div>"
      ],
      "text/plain": [
       "           price\n",
       "count   4.000000\n",
       "mean   84.250000\n",
       "std    11.786291\n",
       "min    73.000000\n",
       "25%    75.250000\n",
       "50%    83.000000\n",
       "75%    92.000000\n",
       "max    98.000000"
      ]
     },
     "execution_count": 33,
     "metadata": {},
     "output_type": "execute_result"
    }
   ],
   "source": [
    "data.describe()"
   ]
  },
  {
   "cell_type": "code",
   "execution_count": 35,
   "id": "66129edc-faf2-49ba-b4d2-7b0a6e2ba76e",
   "metadata": {},
   "outputs": [
    {
     "name": "stdout",
     "output_type": "stream",
     "text": [
      "<class 'pandas.core.frame.DataFrame'>\n",
      "RangeIndex: 4 entries, 0 to 3\n",
      "Data columns (total 3 columns):\n",
      " #   Column   Non-Null Count  Dtype \n",
      "---  ------   --------------  ----- \n",
      " 0   price    4 non-null      int64 \n",
      " 1   ticker   4 non-null      object\n",
      " 2   company  4 non-null      object\n",
      "dtypes: int64(1), object(2)\n",
      "memory usage: 228.0+ bytes\n"
     ]
    }
   ],
   "source": [
    "data.info()"
   ]
  },
  {
   "cell_type": "code",
   "execution_count": 36,
   "id": "209f2ce7-7e80-464f-87a9-fd15c775f866",
   "metadata": {},
   "outputs": [
    {
     "data": {
      "text/html": [
       "<div>\n",
       "<style scoped>\n",
       "    .dataframe tbody tr th:only-of-type {\n",
       "        vertical-align: middle;\n",
       "    }\n",
       "\n",
       "    .dataframe tbody tr th {\n",
       "        vertical-align: top;\n",
       "    }\n",
       "\n",
       "    .dataframe thead th {\n",
       "        text-align: right;\n",
       "    }\n",
       "</style>\n",
       "<table border=\"1\" class=\"dataframe\">\n",
       "  <thead>\n",
       "    <tr style=\"text-align: right;\">\n",
       "      <th></th>\n",
       "      <th>price</th>\n",
       "      <th>ticker</th>\n",
       "      <th>company</th>\n",
       "    </tr>\n",
       "  </thead>\n",
       "  <tbody>\n",
       "    <tr>\n",
       "      <th>0</th>\n",
       "      <td>False</td>\n",
       "      <td>False</td>\n",
       "      <td>False</td>\n",
       "    </tr>\n",
       "    <tr>\n",
       "      <th>1</th>\n",
       "      <td>False</td>\n",
       "      <td>False</td>\n",
       "      <td>False</td>\n",
       "    </tr>\n",
       "    <tr>\n",
       "      <th>2</th>\n",
       "      <td>False</td>\n",
       "      <td>False</td>\n",
       "      <td>False</td>\n",
       "    </tr>\n",
       "    <tr>\n",
       "      <th>3</th>\n",
       "      <td>False</td>\n",
       "      <td>False</td>\n",
       "      <td>False</td>\n",
       "    </tr>\n",
       "  </tbody>\n",
       "</table>\n",
       "</div>"
      ],
      "text/plain": [
       "   price  ticker  company\n",
       "0  False   False    False\n",
       "1  False   False    False\n",
       "2  False   False    False\n",
       "3  False   False    False"
      ]
     },
     "execution_count": 36,
     "metadata": {},
     "output_type": "execute_result"
    }
   ],
   "source": [
    "#checking for null values\n",
    "data.isnull()"
   ]
  },
  {
   "cell_type": "code",
   "execution_count": 38,
   "id": "8e297229-fb0b-47ff-8929-f3fe9fe187f9",
   "metadata": {},
   "outputs": [],
   "source": [
    "import numpy as np"
   ]
  },
  {
   "cell_type": "code",
   "execution_count": 40,
   "id": "bb498987-6f2f-4e31-84ea-192ad0938a75",
   "metadata": {},
   "outputs": [
    {
     "data": {
      "text/html": [
       "<div>\n",
       "<style scoped>\n",
       "    .dataframe tbody tr th:only-of-type {\n",
       "        vertical-align: middle;\n",
       "    }\n",
       "\n",
       "    .dataframe tbody tr th {\n",
       "        vertical-align: top;\n",
       "    }\n",
       "\n",
       "    .dataframe thead th {\n",
       "        text-align: right;\n",
       "    }\n",
       "</style>\n",
       "<table border=\"1\" class=\"dataframe\">\n",
       "  <thead>\n",
       "    <tr style=\"text-align: right;\">\n",
       "      <th></th>\n",
       "      <th>one</th>\n",
       "      <th>two</th>\n",
       "      <th>three</th>\n",
       "    </tr>\n",
       "  </thead>\n",
       "  <tbody>\n",
       "    <tr>\n",
       "      <th>a</th>\n",
       "      <td>-0.542582</td>\n",
       "      <td>0.370015</td>\n",
       "      <td>-0.077842</td>\n",
       "    </tr>\n",
       "    <tr>\n",
       "      <th>b</th>\n",
       "      <td>NaN</td>\n",
       "      <td>NaN</td>\n",
       "      <td>NaN</td>\n",
       "    </tr>\n",
       "    <tr>\n",
       "      <th>c</th>\n",
       "      <td>0.082033</td>\n",
       "      <td>0.187314</td>\n",
       "      <td>-1.035981</td>\n",
       "    </tr>\n",
       "    <tr>\n",
       "      <th>d</th>\n",
       "      <td>NaN</td>\n",
       "      <td>NaN</td>\n",
       "      <td>NaN</td>\n",
       "    </tr>\n",
       "    <tr>\n",
       "      <th>e</th>\n",
       "      <td>0.614342</td>\n",
       "      <td>-0.085624</td>\n",
       "      <td>1.059353</td>\n",
       "    </tr>\n",
       "    <tr>\n",
       "      <th>f</th>\n",
       "      <td>0.518427</td>\n",
       "      <td>-0.786517</td>\n",
       "      <td>0.473746</td>\n",
       "    </tr>\n",
       "    <tr>\n",
       "      <th>g</th>\n",
       "      <td>NaN</td>\n",
       "      <td>NaN</td>\n",
       "      <td>NaN</td>\n",
       "    </tr>\n",
       "    <tr>\n",
       "      <th>h</th>\n",
       "      <td>1.326258</td>\n",
       "      <td>-1.064163</td>\n",
       "      <td>-0.035069</td>\n",
       "    </tr>\n",
       "  </tbody>\n",
       "</table>\n",
       "</div>"
      ],
      "text/plain": [
       "        one       two     three\n",
       "a -0.542582  0.370015 -0.077842\n",
       "b       NaN       NaN       NaN\n",
       "c  0.082033  0.187314 -1.035981\n",
       "d       NaN       NaN       NaN\n",
       "e  0.614342 -0.085624  1.059353\n",
       "f  0.518427 -0.786517  0.473746\n",
       "g       NaN       NaN       NaN\n",
       "h  1.326258 -1.064163 -0.035069"
      ]
     },
     "execution_count": 40,
     "metadata": {},
     "output_type": "execute_result"
    }
   ],
   "source": [
    "#creating a sample dataframe\n",
    "df = pd.DataFrame(np.random.randn(5,3), index=['a', 'c', 'e', 'f', 'h'], columns=['one', 'two', 'three'])\n",
    "\n",
    "#creating a data with missing values by reindexing\n",
    "dfs = df.reindex(['a', 'b', 'c', 'd', 'e', 'f', 'g', 'h'])\n",
    "dfs"
   ]
  },
  {
   "cell_type": "code",
   "execution_count": 42,
   "id": "00675de3-f667-45b5-b0fe-231a2759b9ed",
   "metadata": {},
   "outputs": [
    {
     "name": "stdout",
     "output_type": "stream",
     "text": [
      "     one    two  three\n",
      "a  False  False  False\n",
      "b   True   True   True\n",
      "c  False  False  False\n",
      "d   True   True   True\n",
      "e  False  False  False\n",
      "f  False  False  False\n",
      "g   True   True   True\n",
      "h  False  False  False\n",
      "count of missing values:\n",
      " one      3\n",
      "two      3\n",
      "three    3\n",
      "dtype: int64\n"
     ]
    }
   ],
   "source": [
    "#checking missing values using isnull()\n",
    "print(dfs.isnull())\n",
    "missing_values_count = dfs.isnull().sum()\n",
    "print('count of missing values:\\n', missing_values_count)"
   ]
  },
  {
   "cell_type": "code",
   "execution_count": 37,
   "id": "20226486-e343-403f-8bad-b5489e1065b4",
   "metadata": {},
   "outputs": [
    {
     "name": "stdout",
     "output_type": "stream",
     "text": [
      "        one       two     three\n",
      "a  0.681203  0.419428 -0.099943\n",
      "c  0.196074  0.538366 -0.317363\n",
      "e  0.134991 -0.923502 -0.365557\n",
      "f  1.603352 -0.357620 -0.679957\n",
      "h  2.372016 -0.383991  0.426669\n"
     ]
    }
   ],
   "source": [
    "#removing rows that contain a missing values\n",
    "dfs = dfs.dropna()\n",
    "print(dfs)"
   ]
  },
  {
   "cell_type": "code",
   "execution_count": 73,
   "id": "5955c2e4-bdbe-42f6-91b7-d4ea4efb456b",
   "metadata": {},
   "outputs": [
    {
     "data": {
      "text/html": [
       "<div>\n",
       "<style scoped>\n",
       "    .dataframe tbody tr th:only-of-type {\n",
       "        vertical-align: middle;\n",
       "    }\n",
       "\n",
       "    .dataframe tbody tr th {\n",
       "        vertical-align: top;\n",
       "    }\n",
       "\n",
       "    .dataframe thead th {\n",
       "        text-align: right;\n",
       "    }\n",
       "</style>\n",
       "<table border=\"1\" class=\"dataframe\">\n",
       "  <thead>\n",
       "    <tr style=\"text-align: right;\">\n",
       "      <th></th>\n",
       "      <th>one</th>\n",
       "      <th>two</th>\n",
       "      <th>three</th>\n",
       "    </tr>\n",
       "  </thead>\n",
       "  <tbody>\n",
       "    <tr>\n",
       "      <th>a</th>\n",
       "      <td>0.681203</td>\n",
       "      <td>0.419428</td>\n",
       "      <td>-0.099943</td>\n",
       "    </tr>\n",
       "    <tr>\n",
       "      <th>c</th>\n",
       "      <td>0.196074</td>\n",
       "      <td>0.538366</td>\n",
       "      <td>-0.317363</td>\n",
       "    </tr>\n",
       "    <tr>\n",
       "      <th>e</th>\n",
       "      <td>0.134991</td>\n",
       "      <td>-0.923502</td>\n",
       "      <td>-0.365557</td>\n",
       "    </tr>\n",
       "    <tr>\n",
       "      <th>f</th>\n",
       "      <td>1.603352</td>\n",
       "      <td>-0.357620</td>\n",
       "      <td>-0.679957</td>\n",
       "    </tr>\n",
       "    <tr>\n",
       "      <th>h</th>\n",
       "      <td>2.372016</td>\n",
       "      <td>-0.383991</td>\n",
       "      <td>0.426669</td>\n",
       "    </tr>\n",
       "  </tbody>\n",
       "</table>\n",
       "</div>"
      ],
      "text/plain": [
       "        one       two     three\n",
       "a  0.681203  0.419428 -0.099943\n",
       "c  0.196074  0.538366 -0.317363\n",
       "e  0.134991 -0.923502 -0.365557\n",
       "f  1.603352 -0.357620 -0.679957\n",
       "h  2.372016 -0.383991  0.426669"
      ]
     },
     "execution_count": 73,
     "metadata": {},
     "output_type": "execute_result"
    }
   ],
   "source": [
    "#remove all columns with at list one missing value\n",
    "columns_with_na_drop = dfs.dropna(axis=1)\n",
    "columns_with_na_drop.head()"
   ]
  },
  {
   "cell_type": "code",
   "execution_count": 69,
   "id": "357e801d-b90f-49e3-8072-1dfdc791365a",
   "metadata": {},
   "outputs": [
    {
     "data": {
      "text/html": [
       "<div>\n",
       "<style scoped>\n",
       "    .dataframe tbody tr th:only-of-type {\n",
       "        vertical-align: middle;\n",
       "    }\n",
       "\n",
       "    .dataframe tbody tr th {\n",
       "        vertical-align: top;\n",
       "    }\n",
       "\n",
       "    .dataframe thead th {\n",
       "        text-align: right;\n",
       "    }\n",
       "</style>\n",
       "<table border=\"1\" class=\"dataframe\">\n",
       "  <thead>\n",
       "    <tr style=\"text-align: right;\">\n",
       "      <th></th>\n",
       "      <th>one</th>\n",
       "      <th>two</th>\n",
       "      <th>three</th>\n",
       "    </tr>\n",
       "  </thead>\n",
       "  <tbody>\n",
       "    <tr>\n",
       "      <th>a</th>\n",
       "      <td>0.681203</td>\n",
       "      <td>0.419428</td>\n",
       "      <td>-0.099943</td>\n",
       "    </tr>\n",
       "    <tr>\n",
       "      <th>c</th>\n",
       "      <td>0.196074</td>\n",
       "      <td>0.538366</td>\n",
       "      <td>-0.317363</td>\n",
       "    </tr>\n",
       "    <tr>\n",
       "      <th>e</th>\n",
       "      <td>0.134991</td>\n",
       "      <td>-0.923502</td>\n",
       "      <td>-0.365557</td>\n",
       "    </tr>\n",
       "    <tr>\n",
       "      <th>f</th>\n",
       "      <td>1.603352</td>\n",
       "      <td>-0.357620</td>\n",
       "      <td>-0.679957</td>\n",
       "    </tr>\n",
       "    <tr>\n",
       "      <th>h</th>\n",
       "      <td>2.372016</td>\n",
       "      <td>-0.383991</td>\n",
       "      <td>0.426669</td>\n",
       "    </tr>\n",
       "  </tbody>\n",
       "</table>\n",
       "</div>"
      ],
      "text/plain": [
       "        one       two     three\n",
       "a  0.681203  0.419428 -0.099943\n",
       "c  0.196074  0.538366 -0.317363\n",
       "e  0.134991 -0.923502 -0.365557\n",
       "f  1.603352 -0.357620 -0.679957\n",
       "h  2.372016 -0.383991  0.426669"
      ]
     },
     "execution_count": 69,
     "metadata": {},
     "output_type": "execute_result"
    }
   ],
   "source": [
    "#filling NaN with zeros\n",
    "df3 = dfs.fillna(0)\n",
    "df3"
   ]
  },
  {
   "cell_type": "code",
   "execution_count": 79,
   "id": "1183beaf-f959-483d-a0af-70ce1f2e4b8f",
   "metadata": {},
   "outputs": [
    {
     "name": "stderr",
     "output_type": "stream",
     "text": [
      "C:\\Users\\Maureen Michael\\AppData\\Local\\Temp\\ipykernel_6500\\1384582278.py:3: FutureWarning: DataFrame.fillna with 'method' is deprecated and will raise in a future version. Use obj.ffill() or obj.bfill() instead.\n",
      "  df4 = dfs.fillna(method = 'bfill', axis=0).fillna(0)\n"
     ]
    },
    {
     "data": {
      "text/html": [
       "<div>\n",
       "<style scoped>\n",
       "    .dataframe tbody tr th:only-of-type {\n",
       "        vertical-align: middle;\n",
       "    }\n",
       "\n",
       "    .dataframe tbody tr th {\n",
       "        vertical-align: top;\n",
       "    }\n",
       "\n",
       "    .dataframe thead th {\n",
       "        text-align: right;\n",
       "    }\n",
       "</style>\n",
       "<table border=\"1\" class=\"dataframe\">\n",
       "  <thead>\n",
       "    <tr style=\"text-align: right;\">\n",
       "      <th></th>\n",
       "      <th>one</th>\n",
       "      <th>two</th>\n",
       "      <th>three</th>\n",
       "    </tr>\n",
       "  </thead>\n",
       "  <tbody>\n",
       "    <tr>\n",
       "      <th>a</th>\n",
       "      <td>0.681203</td>\n",
       "      <td>0.419428</td>\n",
       "      <td>-0.099943</td>\n",
       "    </tr>\n",
       "    <tr>\n",
       "      <th>c</th>\n",
       "      <td>0.196074</td>\n",
       "      <td>0.538366</td>\n",
       "      <td>-0.317363</td>\n",
       "    </tr>\n",
       "    <tr>\n",
       "      <th>e</th>\n",
       "      <td>0.134991</td>\n",
       "      <td>-0.923502</td>\n",
       "      <td>-0.365557</td>\n",
       "    </tr>\n",
       "    <tr>\n",
       "      <th>f</th>\n",
       "      <td>1.603352</td>\n",
       "      <td>-0.357620</td>\n",
       "      <td>-0.679957</td>\n",
       "    </tr>\n",
       "    <tr>\n",
       "      <th>h</th>\n",
       "      <td>2.372016</td>\n",
       "      <td>-0.383991</td>\n",
       "      <td>0.426669</td>\n",
       "    </tr>\n",
       "  </tbody>\n",
       "</table>\n",
       "</div>"
      ],
      "text/plain": [
       "        one       two     three\n",
       "a  0.681203  0.419428 -0.099943\n",
       "c  0.196074  0.538366 -0.317363\n",
       "e  0.134991 -0.923502 -0.365557\n",
       "f  1.603352 -0.357620 -0.679957\n",
       "h  2.372016 -0.383991  0.426669"
      ]
     },
     "execution_count": 79,
     "metadata": {},
     "output_type": "execute_result"
    }
   ],
   "source": [
    "#replase all NA's with values that comes directly afterit in the same column\n",
    "#then replace alll the remaining na's with 0\n",
    "df4 = dfs.fillna(method = 'bfill', axis=0).fillna(0)\n",
    "df4"
   ]
  },
  {
   "cell_type": "code",
   "execution_count": 89,
   "id": "98653147-41b0-4b5e-b29c-df89d8a1f0b3",
   "metadata": {},
   "outputs": [
    {
     "data": {
      "text/html": [
       "<div>\n",
       "<style scoped>\n",
       "    .dataframe tbody tr th:only-of-type {\n",
       "        vertical-align: middle;\n",
       "    }\n",
       "\n",
       "    .dataframe tbody tr th {\n",
       "        vertical-align: top;\n",
       "    }\n",
       "\n",
       "    .dataframe thead th {\n",
       "        text-align: right;\n",
       "    }\n",
       "</style>\n",
       "<table border=\"1\" class=\"dataframe\">\n",
       "  <thead>\n",
       "    <tr style=\"text-align: right;\">\n",
       "      <th></th>\n",
       "      <th>one</th>\n",
       "      <th>two</th>\n",
       "      <th>three</th>\n",
       "    </tr>\n",
       "  </thead>\n",
       "  <tbody>\n",
       "    <tr>\n",
       "      <th>a</th>\n",
       "      <td>0.681203</td>\n",
       "      <td>0.419428</td>\n",
       "      <td>-0.099943</td>\n",
       "    </tr>\n",
       "    <tr>\n",
       "      <th>c</th>\n",
       "      <td>0.196074</td>\n",
       "      <td>0.538366</td>\n",
       "      <td>-0.317363</td>\n",
       "    </tr>\n",
       "    <tr>\n",
       "      <th>e</th>\n",
       "      <td>0.134991</td>\n",
       "      <td>-0.923502</td>\n",
       "      <td>-0.365557</td>\n",
       "    </tr>\n",
       "    <tr>\n",
       "      <th>f</th>\n",
       "      <td>1.603352</td>\n",
       "      <td>-0.357620</td>\n",
       "      <td>-0.679957</td>\n",
       "    </tr>\n",
       "    <tr>\n",
       "      <th>h</th>\n",
       "      <td>2.372016</td>\n",
       "      <td>-0.383991</td>\n",
       "      <td>0.426669</td>\n",
       "    </tr>\n",
       "  </tbody>\n",
       "</table>\n",
       "</div>"
      ],
      "text/plain": [
       "        one       two     three\n",
       "a  0.681203  0.419428 -0.099943\n",
       "c  0.196074  0.538366 -0.317363\n",
       "e  0.134991 -0.923502 -0.365557\n",
       "f  1.603352 -0.357620 -0.679957\n",
       "h  2.372016 -0.383991  0.426669"
      ]
     },
     "execution_count": 89,
     "metadata": {},
     "output_type": "execute_result"
    }
   ],
   "source": [
    "#replace all NA's with values that comes directly afterit in the same column\n",
    "#then replace alll the remaining na's with 0\n",
    "df4 = dfs.ffill( axis=0)\n",
    "df4"
   ]
  },
  {
   "cell_type": "code",
   "execution_count": null,
   "id": "7ab68ee6-01cc-4f2b-86cc-41b8003b3a0a",
   "metadata": {},
   "outputs": [],
   "source": []
  }
 ],
 "metadata": {
  "kernelspec": {
   "display_name": "Python 3 (ipykernel)",
   "language": "python",
   "name": "python3"
  },
  "language_info": {
   "codemirror_mode": {
    "name": "ipython",
    "version": 3
   },
   "file_extension": ".py",
   "mimetype": "text/x-python",
   "name": "python",
   "nbconvert_exporter": "python",
   "pygments_lexer": "ipython3",
   "version": "3.12.4"
  }
 },
 "nbformat": 4,
 "nbformat_minor": 5
}
